{
  "nbformat": 4,
  "nbformat_minor": 0,
  "metadata": {
    "colab": {
      "provenance": []
    },
    "kernelspec": {
      "name": "python3",
      "display_name": "Python 3"
    },
    "language_info": {
      "name": "python"
    }
  },
  "cells": [
    {
      "cell_type": "code",
      "execution_count": 2,
      "metadata": {
        "id": "FqgmvIUEF1QK",
        "outputId": "ac6c53d1-9c9b-4779-a4f1-dec08f6209bf",
        "colab": {
          "base_uri": "https://localhost:8080/"
        }
      },
      "outputs": [
        {
          "output_type": "stream",
          "name": "stdout",
          "text": [
            "LADYGAGA\n"
          ]
        }
      ],
      "source": [
        "def wordTransForm(string1, string2):\n",
        "   return string1.upper() + string2.upper()\n",
        "\n",
        "result = wordTransForm(\"lady\", \"gaga\")\n",
        "print(result)"
      ]
    }
  ]
}